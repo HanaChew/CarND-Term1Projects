{
 "cells": [
  {
   "cell_type": "markdown",
   "metadata": {},
   "source": [
    "# Self-Driving Car Engineer Nanodegree\n",
    "\n",
    "## Deep Learning\n",
    "\n",
    "## Project: Build a Traffic Sign Recognition Classifier\n",
    "\n",
    "In this notebook, a template is provided for you to implement your functionality in stages, which is required to successfully complete this project. If additional code is required that cannot be included in the notebook, be sure that the Python code is successfully imported and included in your submission if necessary. \n",
    "\n",
    "> **Note**: Once you have completed all of the code implementations, you need to finalize your work by exporting the iPython Notebook as an HTML document. Before exporting the notebook to html, all of the code cells need to have been run so that reviewers can see the final implementation and output. You can then export the notebook by using the menu above and navigating to  \\n\",\n",
    "    \"**File -> Download as -> HTML (.html)**. Include the finished document along with this notebook as your submission. \n",
    "\n",
    "In addition to implementing code, there is a writeup to complete. The writeup should be completed in a separate file, which can be either a markdown file or a pdf document. There is a [write up template](https://github.com/udacity/CarND-Traffic-Sign-Classifier-Project/blob/master/writeup_template.md) that can be used to guide the writing process. Completing the code template and writeup template will cover all of the [rubric points](https://review.udacity.com/#!/rubrics/481/view) for this project.\n",
    "\n",
    "The [rubric](https://review.udacity.com/#!/rubrics/481/view) contains \"Stand Out Suggestions\" for enhancing the project beyond the minimum requirements. The stand out suggestions are optional. If you decide to pursue the \"stand out suggestions\", you can include the code in this Ipython notebook and also discuss the results in the writeup file.\n",
    "\n",
    "\n",
    ">**Note:** Code and Markdown cells can be executed using the **Shift + Enter** keyboard shortcut. In addition, Markdown cells can be edited by typically double-clicking the cell to enter edit mode."
   ]
  },
  {
   "cell_type": "markdown",
   "metadata": {},
   "source": [
    "---\n",
    "## Step 0: Load The Data"
   ]
  },
  {
   "cell_type": "code",
   "execution_count": 1,
   "metadata": {},
   "outputs": [
    {
     "name": "stderr",
     "output_type": "stream",
     "text": [
      "/Users/fchew/anaconda3/envs/carnd-term1/lib/python3.6/site-packages/tensorflow/python/framework/dtypes.py:458: FutureWarning: Passing (type, 1) or '1type' as a synonym of type is deprecated; in a future version of numpy, it will be understood as (type, (1,)) / '(1,)type'.\n",
      "  _np_qint8 = np.dtype([(\"qint8\", np.int8, 1)])\n",
      "/Users/fchew/anaconda3/envs/carnd-term1/lib/python3.6/site-packages/tensorflow/python/framework/dtypes.py:459: FutureWarning: Passing (type, 1) or '1type' as a synonym of type is deprecated; in a future version of numpy, it will be understood as (type, (1,)) / '(1,)type'.\n",
      "  _np_quint8 = np.dtype([(\"quint8\", np.uint8, 1)])\n",
      "/Users/fchew/anaconda3/envs/carnd-term1/lib/python3.6/site-packages/tensorflow/python/framework/dtypes.py:460: FutureWarning: Passing (type, 1) or '1type' as a synonym of type is deprecated; in a future version of numpy, it will be understood as (type, (1,)) / '(1,)type'.\n",
      "  _np_qint16 = np.dtype([(\"qint16\", np.int16, 1)])\n",
      "/Users/fchew/anaconda3/envs/carnd-term1/lib/python3.6/site-packages/tensorflow/python/framework/dtypes.py:461: FutureWarning: Passing (type, 1) or '1type' as a synonym of type is deprecated; in a future version of numpy, it will be understood as (type, (1,)) / '(1,)type'.\n",
      "  _np_quint16 = np.dtype([(\"quint16\", np.uint16, 1)])\n",
      "/Users/fchew/anaconda3/envs/carnd-term1/lib/python3.6/site-packages/tensorflow/python/framework/dtypes.py:462: FutureWarning: Passing (type, 1) or '1type' as a synonym of type is deprecated; in a future version of numpy, it will be understood as (type, (1,)) / '(1,)type'.\n",
      "  _np_qint32 = np.dtype([(\"qint32\", np.int32, 1)])\n",
      "/Users/fchew/anaconda3/envs/carnd-term1/lib/python3.6/site-packages/tensorflow/python/framework/dtypes.py:465: FutureWarning: Passing (type, 1) or '1type' as a synonym of type is deprecated; in a future version of numpy, it will be understood as (type, (1,)) / '(1,)type'.\n",
      "  np_resource = np.dtype([(\"resource\", np.ubyte, 1)])\n"
     ]
    }
   ],
   "source": [
    "# import required packages\n",
    "import pickle\n",
    "import numpy as np\n",
    "import pandas as pd\n",
    "import matplotlib.pyplot as plt\n",
    "import random\n",
    "from mpl_toolkits import mplot3d\n",
    "from tensorflow.contrib.layers import flatten\n",
    "import tensorflow as tf\n",
    "from sklearn.utils import shuffle\n",
    "\n",
    "\n",
    "%matplotlib inline\n"
   ]
  },
  {
   "cell_type": "code",
   "execution_count": 2,
   "metadata": {},
   "outputs": [
    {
     "ename": "FileNotFoundError",
     "evalue": "[Errno 2] No such file or directory: 'data/train.p'",
     "output_type": "error",
     "traceback": [
      "\u001b[0;31m---------------------------------------------------------------------------\u001b[0m",
      "\u001b[0;31mFileNotFoundError\u001b[0m                         Traceback (most recent call last)",
      "\u001b[0;32m<ipython-input-2-26101257b1de>\u001b[0m in \u001b[0;36m<module>\u001b[0;34m\u001b[0m\n\u001b[1;32m      4\u001b[0m \u001b[0mtesting_file\u001b[0m   \u001b[0;34m=\u001b[0m \u001b[0;34m\"data/test.p\"\u001b[0m\u001b[0;34m\u001b[0m\u001b[0m\n\u001b[1;32m      5\u001b[0m \u001b[0;34m\u001b[0m\u001b[0m\n\u001b[0;32m----> 6\u001b[0;31m \u001b[0;32mwith\u001b[0m \u001b[0mopen\u001b[0m\u001b[0;34m(\u001b[0m\u001b[0mtraining_file\u001b[0m\u001b[0;34m,\u001b[0m \u001b[0mmode\u001b[0m\u001b[0;34m=\u001b[0m\u001b[0;34m'rb'\u001b[0m\u001b[0;34m)\u001b[0m \u001b[0;32mas\u001b[0m \u001b[0mf\u001b[0m\u001b[0;34m:\u001b[0m\u001b[0;34m\u001b[0m\u001b[0m\n\u001b[0m\u001b[1;32m      7\u001b[0m     \u001b[0mtrain\u001b[0m \u001b[0;34m=\u001b[0m \u001b[0mpickle\u001b[0m\u001b[0;34m.\u001b[0m\u001b[0mload\u001b[0m\u001b[0;34m(\u001b[0m\u001b[0mf\u001b[0m\u001b[0;34m)\u001b[0m\u001b[0;34m\u001b[0m\u001b[0m\n\u001b[1;32m      8\u001b[0m \u001b[0;32mwith\u001b[0m \u001b[0mopen\u001b[0m\u001b[0;34m(\u001b[0m\u001b[0mvalidation_file\u001b[0m\u001b[0;34m,\u001b[0m \u001b[0mmode\u001b[0m\u001b[0;34m=\u001b[0m\u001b[0;34m'rb'\u001b[0m\u001b[0;34m)\u001b[0m \u001b[0;32mas\u001b[0m \u001b[0mf\u001b[0m\u001b[0;34m:\u001b[0m\u001b[0;34m\u001b[0m\u001b[0m\n",
      "\u001b[0;31mFileNotFoundError\u001b[0m: [Errno 2] No such file or directory: 'data/train.p'"
     ]
    }
   ],
   "source": [
    "# Load pickled data\n",
    "training_file  = \"data/train.p\"\n",
    "validation_file= \"data/valid.p\"\n",
    "testing_file   = \"data/test.p\"\n",
    "\n",
    "with open(training_file, mode='rb') as f:\n",
    "    train = pickle.load(f)\n",
    "with open(validation_file, mode='rb') as f:\n",
    "    valid = pickle.load(f)\n",
    "with open(testing_file, mode='rb') as f:\n",
    "    test = pickle.load(f)\n",
    "    \n",
    "X_train, y_train = train['features'], train['labels']\n",
    "X_valid, y_valid = valid['features'], valid['labels']\n",
    "X_test, y_test = test['features'], test['labels']"
   ]
  },
  {
   "cell_type": "markdown",
   "metadata": {},
   "source": [
    "---\n",
    "\n",
    "## Step 1: Dataset Summary & Exploration\n",
    "\n",
    "The pickled data is a dictionary with 4 key/value pairs:\n",
    "\n",
    "- `'features'` is a 4D array containing raw pixel data of the traffic sign images, (num examples, width, height, channels).\n",
    "- `'labels'` is a 1D array containing the label/class id of the traffic sign. The file `signnames.csv` contains id -> name mappings for each id.\n",
    "- `'sizes'` is a list containing tuples, (width, height) representing the original width and height the image.\n",
    "- `'coords'` is a list containing tuples, (x1, y1, x2, y2) representing coordinates of a bounding box around the sign in the image. **THESE COORDINATES ASSUME THE ORIGINAL IMAGE. THE PICKLED DATA CONTAINS RESIZED VERSIONS (32 by 32) OF THESE IMAGES**\n",
    "\n",
    "Complete the basic data summary below. Use python, numpy and/or pandas methods to calculate the data summary rather than hard coding the results. For example, the [pandas shape method](http://pandas.pydata.org/pandas-docs/stable/generated/pandas.DataFrame.shape.html) might be useful for calculating some of the summary results. "
   ]
  },
  {
   "cell_type": "markdown",
   "metadata": {},
   "source": [
    "### Provide a Basic Summary of the Data Set Using Python, Numpy and/or Pandas"
   ]
  },
  {
   "cell_type": "code",
   "execution_count": null,
   "metadata": {},
   "outputs": [],
   "source": [
    "# Number of training examples\n",
    "n_train = len(X_train)\n",
    "\n",
    "# Number of validation examples\n",
    "n_validation = len(X_valid)\n",
    "\n",
    "# Number of testing examples.\n",
    "n_test = len(X_test)\n",
    "\n",
    "# What's the shape of a traffic sign image?\n",
    "image_shape = X_train[0].shape\n",
    "\n",
    "# How many unique classes/labels there are in the dataset.\n",
    "n_classes = len(np.unique(y_train))\n",
    "\n",
    "print(\"Number of training examples =\", n_train)\n",
    "print(\"Number of testing examples =\", n_test)\n",
    "print(\"Image data shape =\", image_shape)\n",
    "print(\"Number of classes =\", n_classes)"
   ]
  },
  {
   "cell_type": "markdown",
   "metadata": {},
   "source": [
    "### Include an exploratory visualization of the dataset"
   ]
  },
  {
   "cell_type": "markdown",
   "metadata": {},
   "source": [
    "Visualize the German Traffic Signs Dataset using the pickled file(s). This is open ended, suggestions include: plotting traffic sign images, plotting the count of each sign, etc. \n",
    "\n",
    "The [Matplotlib](http://matplotlib.org/) [examples](http://matplotlib.org/examples/index.html) and [gallery](http://matplotlib.org/gallery.html) pages are a great resource for doing visualizations in Python.\n",
    "\n",
    "**NOTE:** It's recommended you start with something simple first. If you wish to do more, come back to it after you've completed the rest of the sections. It can be interesting to look at the distribution of classes in the training, validation and test set. Is the distribution the same? Are there more examples of some classes than others?"
   ]
  },
  {
   "cell_type": "code",
   "execution_count": null,
   "metadata": {
    "scrolled": false
   },
   "outputs": [],
   "source": [
    "signName = pd.read_csv('signnames.csv')\n",
    "\n",
    "# plot a random sampling of 20 images\n",
    "plt.figure(1, figsize=(12,8))\n",
    "plt.subplots_adjust(wspace=0.7,hspace=0.1)\n",
    "\n",
    "for i in range(12):\n",
    "    idx = random.randint(0,len(X_train))\n",
    "    plt.subplot(3, 4, i+1)\n",
    "    plt.imshow(X_train[idx])\n",
    "    plt.title(str(y_train[idx])+\": \"+str(signName.loc[y_train[idx]].SignName), fontsize=9)\n",
    "    plt.axis('off')"
   ]
  },
  {
   "cell_type": "code",
   "execution_count": null,
   "metadata": {},
   "outputs": [],
   "source": [
    "# print(y_train[1:10])\n",
    "# hist, bins = np.histogram(y_train, bins=n_classes)\n",
    "# print(hist)\n",
    "# print(bins)"
   ]
  },
  {
   "cell_type": "code",
   "execution_count": null,
   "metadata": {},
   "outputs": [],
   "source": [
    "# visualise data samples as bar charts\n",
    "f, (x1, x2, x3) = plt.subplots(1,3, figsize=(32,25))\n",
    "\n",
    "hist, bins = np.histogram(y_train, bins=n_classes)\n",
    "colors = plt.get_cmap('RdYlGn')(np.linspace(0.15, 0.85, n_classes))\n",
    "height = 0.8*(bins[1]-bins[0])\n",
    "center = (bins[:-1]+bins[1:])/2\n",
    "# f.plt.set_ylabel('Sign Name')\n",
    "# x1.barh(bins,hist)\n",
    "x1.barh(center,hist,height,tick_label=signName.SignName,color=colors)\n",
    "x1.tick_params(axis=\"y\", labelsize=30)\n",
    "x1.tick_params(axis=\"x\", labelsize=25)\n",
    "x1.set_title('Training Data',fontsize=30)\n",
    "x1.grid(True)\n",
    "x1.set_xlabel('Number of Data Samples', fontsize=30)\n",
    "\n",
    "hist, bins = np.histogram(y_valid, bins=n_classes)\n",
    "# x2.barh(y=y_valid,width=n_classes)\n",
    "x2.barh(center,hist,height,color=colors)\n",
    "x2.set_title('Validation Data',fontsize=30)\n",
    "x2.tick_params(axis=\"y\", labelsize=0)\n",
    "x2.tick_params(axis=\"x\", labelsize=25)\n",
    "x2.grid(True)\n",
    "x2.set_xlabel('Number of Data Samples', fontsize=30)\n",
    "\n",
    "hist, bins = np.histogram(y_test, bins=n_classes)\n",
    "# x3.barh(y=y_test,width=n_classes)\n",
    "x3.barh(center,hist,height,color=colors)\n",
    "x3.set_title('Test Data',fontsize=30)\n",
    "x3.tick_params(axis=\"y\", labelsize=0)\n",
    "x3.tick_params(axis=\"x\", labelsize=25)\n",
    "x3.grid(True)\n",
    "x3.set_xlabel('Number of Data Samples', fontsize=30)"
   ]
  },
  {
   "cell_type": "code",
   "execution_count": null,
   "metadata": {},
   "outputs": [],
   "source": [
    "# visualise data samples as bar charts on one 3d projection \n",
    "fig = plt.figure(figsize=(32,18))\n",
    "# f, (x1, x2, x3) = plt.subplots(1,3, figsize=(32,25))\n",
    "x1 = fig.add_subplot(111, projection='3d')\n",
    "bins  = n_classes\n",
    "\n",
    "# # for z in [30, 20, 10, 0]:\n",
    "# for z in [30]:\n",
    "#     yVals, bins = np.histogram(y_train, bins=n_classes)\n",
    "#     xVals       = (bins[:-1]-bins[1:])/2\n",
    "#     ax.bar(xVals,yVals,zs=z,zdir='y',width=height,tick_label=signName.SignName,color=colors[::-1])\n",
    "#     ax.view_init(azim=135,elev=45)\n",
    "#     ax.axes.tick_params(axis='x',rotation=25, labelsize='small')\n",
    "\n",
    "hist, bins = np.histogram(y_train, bins=n_classes)\n",
    "colors = plt.get_cmap('RdYlGn')(np.linspace(0.15, 0.85, n_classes))\n",
    "height = 0.8*(bins[1]-bins[0])\n",
    "center = (bins[:-1]+bins[1:])/2\n",
    "x1.bar(center,hist[::-1],zs=30,tick_label=signName.SignName[::-1],color=colors[::-1],zdir=\"y\")\n",
    "x1.tick_params(axis=\"y\", labelsize=25)\n",
    "# x1.set_title('Training Data',fontsize=30)\n",
    "x1.grid(True)\n",
    "x1.axes.tick_params(axis='x',rotation=90, labelsize=20)\n",
    "\n",
    "hist, bins = np.histogram(y_test, bins=n_classes)\n",
    "x1.bar(center,hist[::-1],zs=10,tick_label=signName.SignName[::-1],color=colors[::-1],zdir=\"y\")\n",
    "x1.axes.tick_params(axis='x',rotation=90, labelsize=20)\n",
    "\n",
    "hist, bins = np.histogram(y_valid, bins=n_classes)\n",
    "x1.bar(center,hist[::-1],zs=20,tick_label=signName.SignName[::-1],color=colors[::-1],zdir=\"y\")\n",
    "x1.axes.tick_params(axis='x',rotation=90, labelsize=20)\n",
    "x1.axes.tick_params(axis='z', labelsize=20, direction=\"out\", rotation=0)\n",
    "x1.axes.tick_params(axis='y', labelsize=20, direction=\"out\")\n",
    "x1.axes.set_yticks([10,20,30])\n",
    "x1.axes.set_yticklabels(['Validation Data','Test Data','Training Data'])\n",
    "\n",
    "# x1.axes.set_xlabel('SignNames',fontsize=30)\n",
    "x1.set_xlim(0, n_classes-1)\n",
    "# ax.set_ylim(0, 10)\n",
    "# ax.set_zlim(0, 10)\n",
    "x1.axes.set_zlabel('Number of Samples of Training Data',fontsize=20)\n"
   ]
  },
  {
   "cell_type": "markdown",
   "metadata": {},
   "source": [
    "\n",
    "----\n",
    "\n",
    "## Step 2: Design and Test a Model Architecture\n",
    "\n",
    "Design and implement a deep learning model that learns to recognize traffic signs. Train and test your model on the [German Traffic Sign Dataset](http://benchmark.ini.rub.de/?section=gtsrb&subsection=dataset).\n",
    "\n",
    "The LeNet-5 implementation shown in the [classroom](https://classroom.udacity.com/nanodegrees/nd013/parts/fbf77062-5703-404e-b60c-95b78b2f3f9e/modules/6df7ae49-c61c-4bb2-a23e-6527e69209ec/lessons/601ae704-1035-4287-8b11-e2c2716217ad/concepts/d4aca031-508f-4e0b-b493-e7b706120f81) at the end of the CNN lesson is a solid starting point. You'll have to change the number of classes and possibly the preprocessing, but aside from that it's plug and play! \n",
    "\n",
    "With the LeNet-5 solution from the lecture, you should expect a validation set accuracy of about 0.89. To meet specifications, the validation set accuracy will need to be at least 0.93. It is possible to get an even higher accuracy, but 0.93 is the minimum for a successful project submission. \n",
    "\n",
    "There are various aspects to consider when thinking about this problem:\n",
    "\n",
    "- Neural network architecture (is the network over or underfitting?)\n",
    "- Play around preprocessing techniques (normalization, rgb to grayscale, etc)\n",
    "- Number of examples per label (some have more than others).\n",
    "- Generate fake data.\n",
    "\n",
    "Here is an example of a [published baseline model on this problem](http://yann.lecun.com/exdb/publis/pdf/sermanet-ijcnn-11.pdf). It's not required to be familiar with the approach used in the paper but, it's good practice to try to read papers like these."
   ]
  },
  {
   "cell_type": "markdown",
   "metadata": {},
   "source": [
    "### Pre-process the Data Set (normalization, grayscale, etc.)"
   ]
  },
  {
   "cell_type": "markdown",
   "metadata": {},
   "source": [
    "Minimally, the image data should be normalized so that the data has mean zero and equal variance. For image data, `(pixel - 128)/ 128` is a quick way to approximately normalize the data and can be used in this project. \n",
    "\n",
    "Other pre-processing steps are optional. You can try different techniques to see if it improves performance. \n",
    "\n",
    "Use the code cell (or multiple code cells, if necessary) to implement the first step of your project."
   ]
  },
  {
   "cell_type": "code",
   "execution_count": null,
   "metadata": {},
   "outputs": [],
   "source": [
    "### Preprocess the data here. It is required to normalize the data. Other preprocessing steps could include \n",
    "### converting to grayscale, etc.\n",
    "### Feel free to use as many code cells as needed."
   ]
  },
  {
   "cell_type": "code",
   "execution_count": null,
   "metadata": {},
   "outputs": [],
   "source": [
    "# pre-process the images by grayscale and normalising\n",
    "def preProcess(origImg):\n",
    "    #convert to grayscale\n",
    "    gray  = np.sum(origImg/3,axis=3,keepdims=True)\n",
    "    norms = (gray-np.float32(128))/np.float32(128)\n",
    "    return norms\n",
    "\n",
    "X_train_process = preProcess(X_train)\n",
    "X_valid_process = preProcess(X_valid)\n",
    "X_test_process  = preProcess(X_test)"
   ]
  },
  {
   "cell_type": "code",
   "execution_count": null,
   "metadata": {},
   "outputs": [],
   "source": [
    "print(\"              \"+str(X_train.dtype)+\"      \"+str(X_train_process.dtype))\n",
    "print(\"X_train_min:    \"+str(np.min(X_train))+str(\"   --->  %.2f\" % np.min(X_valid_process))+\" (normalised)\")\n",
    "print(\"X_train_max:   \"+str(np.max(X_train))+str(\"  --->   %.2f\" % np.max(X_valid_process))+\" (normalised)\")\n",
    "print(str(\"X_train_mean: %.2f\" % np.mean(X_train))+str(\" --->  %.2f\" % np.mean(X_train_process))+\" (normalised)\")\n",
    "print()\n",
    "print(\"              \"+str(X_valid.dtype)+\"      \"+str(X_train_process.dtype))\n",
    "print(\"X_valid_min:    \"+str(np.min(X_valid))+str(\"   --->  %.2f\" % np.min(X_valid_process))+\" (normalised)\")\n",
    "print(\"X_valid_max:   \"+str(np.max(X_valid))+str(\"  --->   %.2f\" % np.max(X_valid_process))+\" (normalised)\")\n",
    "print(str(\"X_valid_mean: %.2f\" % np.mean(X_valid))+str(\" --->  %.2f\" % np.mean(X_valid_process))+\" (normalised)\")\n",
    "print()\n",
    "print(\"              \"+str(X_test.dtype)+\"      \"+str(X_train_process.dtype))\n",
    "print(\"X_test_min:     \"+str(np.min(X_test))+str(\"   --->  %.2f\" % np.min(X_test_process))+\" (normalised)\")\n",
    "print(\"X_test_max:    \"+str(np.max(X_test))+str(\"  --->   %.2f\" % np.max(X_test_process))+\" (normalised)\")\n",
    "print(str(\"X_test_mean:  %.2f\" % np.mean(X_test))+str(\" --->  %.2f\" % np.mean(X_test_process))+\" (normalised)\")\n",
    "print()\n",
    "print(\"X_train.shape            X_train_process.shape\")\n",
    "print(str(X_train.shape)+\"  ---> \"+str(X_train_process.shape))\n",
    "print()"
   ]
  },
  {
   "cell_type": "code",
   "execution_count": null,
   "metadata": {},
   "outputs": [],
   "source": [
    "# f, (x1, x2) = plt.subplots(1,2, figsize=(3,3))\n",
    "\n",
    "# x1.axis('off')\n",
    "# x1.imshow(X_train[100])\n",
    "\n",
    "# x2.imshow(X_train_process[100].squeeze(),cmap='gray')\n",
    "# x2.axis('off')\n",
    "\n",
    "# plt.figure(1, figsize=(48,48))\n",
    "plt.subplots(3,8, figsize=(18,12))\n",
    "plt.subplots_adjust(wspace=0.4,hspace=0.1)\n",
    "for i in range(0,24,3):\n",
    "    idx = random.randint(0,len(X_train))\n",
    "    plt.subplot(4, 6, i+1)\n",
    "    plt.imshow(X_train[idx])\n",
    "    plt.title(str(y_train[idx])+\": \"+str(signName.loc[y_train[idx]].SignName), fontsize=12)\n",
    "    plt.axis('off')\n",
    "    plt.subplot(4, 6, i+2)\n",
    "    plt.imshow(X_train_process[idx].squeeze(),cmap='gray')\n",
    "    plt.title(\"-->(post-processed)\", fontsize=12)\n",
    "    plt.axis('off')\n",
    "    plt.subplot(4, 6, i+3)\n",
    "    plt.axis('off')    \n",
    "    i+=1\n",
    "    \n"
   ]
  },
  {
   "cell_type": "markdown",
   "metadata": {},
   "source": [
    "### Model Architecture"
   ]
  },
  {
   "cell_type": "code",
   "execution_count": null,
   "metadata": {},
   "outputs": [],
   "source": [
    "### Define your architecture here.\n",
    "### Feel free to use as many code cells as needed."
   ]
  },
  {
   "cell_type": "markdown",
   "metadata": {},
   "source": [
    "Making use of the classic LeNet Architecture implemented in the Labs during the lessons, the dataset was implementted in greyscale. "
   ]
  },
  {
   "cell_type": "code",
   "execution_count": null,
   "metadata": {},
   "outputs": [],
   "source": [
    "# classical LeNet-5 Architecture with dropouts\n",
    "def LeNet(x):    \n",
    "    # Arguments used for tf.truncated_normal, randomly defines variables for the weights and biases for each layer\n",
    "    mu = 0\n",
    "    sigma = 0.1\n",
    "    \n",
    "    # Layer 1: Convolutional. Input = 32x32x1. Output = 28x28x6.\n",
    "    w1    = tf.Variable(tf.truncated_normal(shape=(5, 5, 1, 6), mean = mu, stddev = sigma))\n",
    "    b1    = tf.Variable(tf.zeros(6))\n",
    "    conv1 = tf.add(tf.nn.conv2d(x, w1, strides=[1, 1, 1, 1], padding='VALID'), b1)\n",
    "\n",
    "    # Activation.\n",
    "    conv1 = tf.nn.relu(conv1)\n",
    "\n",
    "    # Pooling. Input = 28x28x6. Output = 14x14x6.\n",
    "    conv1 = tf.nn.max_pool(conv1, ksize=[1, 2, 2, 1], strides=[1, 2, 2, 1], padding='VALID')\n",
    "\n",
    "    # Layer 2: Convolutional. Output = 10x10x16.\n",
    "    w2    = tf.Variable(tf.truncated_normal(shape=(5, 5, 6, 16), mean = mu, stddev = sigma))\n",
    "    b2    = tf.Variable(tf.zeros(16))\n",
    "    conv2 = tf.add(tf.nn.conv2d(conv1, w2, strides=[1, 1, 1, 1], padding='VALID'), b2)\n",
    "    \n",
    "    # Activation.\n",
    "    conv2 = tf.nn.relu(conv2)\n",
    "\n",
    "    # Pooling. Input = 10x10x16. Output = 5x5x16.\n",
    "    conv2 = tf.nn.max_pool(conv2, ksize=[1, 2, 2, 1], strides=[1, 2, 2, 1], padding='VALID')\n",
    "\n",
    "    # Flatten. Input = 5x5x16. Output = 400.\n",
    "    flatConv2 = flatten(conv2)\n",
    "    \n",
    "    # Layer 3: Fully Connected. Input = 400. Output = 120.\n",
    "    w3  = tf.Variable(tf.truncated_normal(shape=(400, 120), mean = mu, stddev = sigma))\n",
    "    b3  = tf.Variable(tf.zeros(120))\n",
    "    fc3 = tf.add(tf.matmul(flatConv2, w3), b3)\n",
    "    \n",
    "    # Activation then dropOut. (Of Layer 3: Fully Connected)\n",
    "#     fc3 = tf.nn.relu(fc3)\n",
    "    fc3 = tf.nn.dropout(tf.nn.relu(fc3), keepProb)\n",
    "\n",
    "    # Layer 4: Fully Connected. Input = 120. Output = 84.\n",
    "    w4  = tf.Variable(tf.truncated_normal(shape=(120, 84), mean = mu, stddev = sigma))\n",
    "    b4  = tf.Variable(tf.zeros(84))\n",
    "    fc4 = tf.add(tf.matmul(fc3, w4), b4)\n",
    "    \n",
    "    # Activation then dropout. (Of Layer 4: Fully Connected)\n",
    "    fc4    = tf.nn.dropout(tf.nn.relu(fc4), keepProb)\n",
    "    \n",
    "    # Layer 5: Fully Connected. Input = 84. Output = 43.\n",
    "    w5  = tf.Variable(tf.truncated_normal(shape=(84, n_classes), mean = mu, stddev = sigma))\n",
    "    b5  = tf.Variable(tf.zeros(n_classes))\n",
    "    logits = tf.add(tf.matmul(fc4, w5), b5)\n",
    "    \n",
    "    return logits"
   ]
  },
  {
   "cell_type": "code",
   "execution_count": null,
   "metadata": {},
   "outputs": [],
   "source": [
    "tf.reset_default_graph() \n",
    "\n",
    "epochs = 40\n",
    "batchSize = 128\n",
    "learnRate = 0.001\n",
    "dropouts = 0.5\n",
    "\n"
   ]
  },
  {
   "cell_type": "code",
   "execution_count": null,
   "metadata": {},
   "outputs": [],
   "source": [
    "# Placeholders for input data, features \n",
    "# for RGB:\n",
    "# x = tf.placeholder(tf.float32,(None,32,32,3))\n",
    "# for Grayscale:\n",
    "x = tf.placeholder(tf.float32,(None,32,32,1))\n",
    "y = tf.placeholder(tf.int32,(None))\n",
    "\n",
    "# Function of Y that one-hot encodes data\n",
    "oneHotY = tf.one_hot(y,n_classes)\n",
    "                   \n",
    "# Placeholder for dropout probability in modLeNet\n",
    "keepProb = tf.placeholder(tf.float32)\n",
    "\n",
    "logits = LeNet(x)\n",
    "crossEntropy = tf.nn.softmax_cross_entropy_with_logits(labels=oneHotY, logits=logits)\n",
    "lossOperation = tf.reduce_mean(crossEntropy)\n",
    "optimizer = tf.train.AdamOptimizer(learning_rate = learnRate)\n",
    "training_operation = optimizer.minimize(lossOperation)\n"
   ]
  },
  {
   "cell_type": "code",
   "execution_count": null,
   "metadata": {},
   "outputs": [],
   "source": [
    "# Model Eval - from LeNet Lab\n",
    "correct_prediction = tf.equal(tf.argmax(logits, 1), tf.argmax(oneHotY, 1))\n",
    "accuracy_operation = tf.reduce_mean(tf.cast(correct_prediction, tf.float32))\n",
    "saver = tf.train.Saver()\n",
    "\n",
    "def evaluate(X_data, y_data):\n",
    "    num_examples = len(X_data)\n",
    "    total_accuracy = 0\n",
    "    sess = tf.get_default_session()\n",
    "    for offset in range(0, num_examples, batchSize):\n",
    "        batch_x, batch_y = X_data[offset:offset+batchSize], y_data[offset:offset+batchSize]\n",
    "#         accuracy = sess.run(accuracy_operation, feed_dict={x: batch_x, y: batch_y})\n",
    "        accuracy = sess.run(accuracy_operation, feed_dict={x: batch_x, y: batch_y, keepProb: 1.0})\n",
    "        total_accuracy += (accuracy * len(batch_x))\n",
    "    return total_accuracy / num_examples"
   ]
  },
  {
   "cell_type": "markdown",
   "metadata": {},
   "source": [
    "### Train, Validate and Test the Model"
   ]
  },
  {
   "cell_type": "markdown",
   "metadata": {},
   "source": [
    "A validation set can be used to assess how well the model is performing. A low accuracy on the training and validation\n",
    "sets imply underfitting. A high accuracy on the training set but low accuracy on the validation set implies overfitting."
   ]
  },
  {
   "cell_type": "code",
   "execution_count": null,
   "metadata": {},
   "outputs": [],
   "source": [
    "### Train your model here.\n",
    "### Calculate and report the accuracy on the training and validation set.\n",
    "### Once a final model architecture is selected, \n",
    "### the accuracy on the test set should be calculated and reported as well.\n",
    "### Feel free to use as many code cells as needed."
   ]
  },
  {
   "cell_type": "code",
   "execution_count": null,
   "metadata": {},
   "outputs": [],
   "source": [
    "with tf.Session() as sess:\n",
    "    sess.run(tf.global_variables_initializer())\n",
    "    num_examples = len(X_train)\n",
    "    \n",
    "    print(\"Training...\")\n",
    "    print()\n",
    "    for i in range(epochs):\n",
    "        X_train_process, y_train = shuffle(X_train_process, y_train)\n",
    "        for offset in range(0, num_examples, batchSize):\n",
    "            end = offset + batchSize\n",
    "            batch_x, batch_y = X_train_process[offset:end], y_train[offset:end]\n",
    "            sess.run(training_operation, feed_dict={x: batch_x, y: batch_y, keepProb: dropouts})\n",
    "            \n",
    "        validation_accuracy = evaluate(X_valid_process, y_valid)\n",
    "        print(\"EPOCH {} ...\".format(i+1))\n",
    "        print(\"Validation Accuracy = {:.3f}\".format(validation_accuracy))\n",
    "        print()\n",
    "    print(\"=========\")\n",
    "    test_accuracy = evaluate(X_test_process, y_test)\n",
    "    print(\"Test Accuracy = {:.3f}\".format(test_accuracy))\n",
    "    print(\"Validation Accuracy = {:.3f}\".format(validation_accuracy))\n",
    "    train_accuracy = evaluate(X_train_process, y_train)\n",
    "    print(\"Train Accuracy = {:.3f}\".format(train_accuracy))\n",
    "    print(\"=========\")\n",
    "    saver.save(sess, 'lenet')\n",
    "    print(\"Model saved\")"
   ]
  },
  {
   "cell_type": "code",
   "execution_count": null,
   "metadata": {},
   "outputs": [],
   "source": [
    "# # model performance - from LeNet Lab\n",
    "# with tf.Session() as sess:\n",
    "#     sess.run(tf.global_variables_initializer())\n",
    "#     saver = tf.train.import_meta_graph('lenet.meta')\n",
    "#     saver.restore(sess, \"lenet\")\n",
    "    \n",
    "    \n",
    "#     saver.restore(sess, tf.train.latest_checkpoint('.'))\n",
    "\n",
    "#     test_accuracy = evaluate(X_test_process, y_test)\n",
    "#     print(\"Test Accuracy = {:.3f}\".format(test_accuracy))\n",
    "    \n",
    "#     train_accuracy = evaluate(X_train_process, y_train)\n",
    "#     print(\"Train Accuracy = {:.3f}\".format(train_accuracy))\n"
   ]
  },
  {
   "cell_type": "markdown",
   "metadata": {},
   "source": [
    "---\n",
    "\n",
    "## Step 3: Test a Model on New Images\n",
    "\n",
    "To give yourself more insight into how your model is working, download at least five pictures of German traffic signs from the web and use your model to predict the traffic sign type.\n",
    "\n",
    "You may find `signnames.csv` useful as it contains mappings from the class id (integer) to the actual sign name."
   ]
  },
  {
   "cell_type": "markdown",
   "metadata": {},
   "source": [
    "### Load and Output the Images"
   ]
  },
  {
   "cell_type": "code",
   "execution_count": null,
   "metadata": {},
   "outputs": [],
   "source": [
    "### Load the images and plot them here.\n",
    "### Feel free to use as many code cells as needed."
   ]
  },
  {
   "cell_type": "code",
   "execution_count": null,
   "metadata": {},
   "outputs": [],
   "source": [
    "import glob\n",
    "import cv2\n",
    "import matplotlib.image as mpimg\n",
    "\n",
    "img_folder = 'onlineImgs/'\n",
    "testImgs = []\n",
    "colorImgs = []\n",
    "testLabels = [11, 25, 13,15, 12,17]\n",
    "fig = plt.figure(figsize=(16,4))\n",
    "\n",
    "images = sorted(glob.glob('onlineImgs/*'))\n",
    "j=0\n",
    "# Step through the image list and resize the images to 32 x 32\n",
    "for idx, fname in enumerate(images):\n",
    "    img = mpimg.imread(fname)\n",
    "\n",
    "    imgL = cv2.resize(img, (100, 100), interpolation = cv2.INTER_AREA)\n",
    "    img = cv2.resize(img, (32, 32), interpolation = cv2.INTER_AREA)\n",
    "    sub=plt.subplot(2,7,j+1)\n",
    "    sub.set_title(str(signName.loc[testLabels[j]].ClassId)+\": \"+str(signName.loc[testLabels[j]].SignName), fontsize=8)\n",
    "    sub.axis(\"off\")\n",
    "    j=j+1\n",
    "    # plot the higher quality image\n",
    "    plt.imshow(imgL)\n",
    "    sub=plt.subplot(2,7,j+7)\n",
    "    #as swell as the reduced size image of 32 x 32 pixels, as the test dataset\n",
    "    sub.axis(\"off\")\n",
    "    plt.imshow(img)\n",
    "    colorImgs.append(imgL)\n",
    "    testImgs.append(img)\n",
    "\n",
    "\n",
    "testImgs = preProcess(np.asarray(testImgs))\n",
    "\n",
    "plt.savefig('outputImgs/3_testImgs.jpg')"
   ]
  },
  {
   "cell_type": "markdown",
   "metadata": {},
   "source": [
    "### Predict the Sign Type for Each Image & Analyze the Performance"
   ]
  },
  {
   "cell_type": "code",
   "execution_count": null,
   "metadata": {},
   "outputs": [],
   "source": [
    "### Run the predictions here and use the model to output the prediction for each image.\n",
    "### Make sure to pre-process the images with the same pre-processing pipeline used earlier.\n",
    "### Feel free to use as many code cells as needed."
   ]
  },
  {
   "cell_type": "code",
   "execution_count": null,
   "metadata": {},
   "outputs": [],
   "source": [
    "#use the trained model to predict the accuracy on 6 new images\n",
    "\n",
    "with tf.Session() as sess:\n",
    "    \n",
    "    saver.restore(sess, \"lenet\")\n",
    "    predLabels = sess.run (tf.argmax(logits,1), feed_dict={x: testImgs, y: testLabels, keepProb:1})\n",
    "    print()\n",
    "    print(\"         actual predicted\")\n",
    "    for i in range(len(testLabels)):\n",
    "        if predLabels[i]==testLabels[i]:\n",
    "            print(\"Correct!!  \"+str(testLabels[i])+\"      \"+str(predLabels[i])+\": \"+str(signName.loc[predLabels[i]].SignName))\n",
    "        else:\n",
    "            print(\"Oops~     \"+str(testLabels[i])+\"      \"+str(predLabels[i])+\": \"+str(signName.loc[predLabels[i]].SignName))\n",
    "    print()            \n",
    "    accuracy = evaluate(testImgs, predLabels)\n",
    "    print(\"Online Images Predicted Accuracy = {:.3f}\".format(accuracy))\n"
   ]
  },
  {
   "cell_type": "markdown",
   "metadata": {},
   "source": [
    "### Output Top 5 Softmax Probabilities For Each Image Found on the Web"
   ]
  },
  {
   "cell_type": "markdown",
   "metadata": {},
   "source": [
    "For each of the new images, print out the model's softmax probabilities to show the **certainty** of the model's predictions (limit the output to the top 5 probabilities for each image). [`tf.nn.top_k`](https://www.tensorflow.org/versions/r0.12/api_docs/python/nn.html#top_k) could prove helpful here. \n",
    "\n",
    "The example below demonstrates how tf.nn.top_k can be used to find the top k predictions for each image.\n",
    "\n",
    "`tf.nn.top_k` will return the values and indices (class ids) of the top k predictions. So if k=3, for each sign, it'll return the 3 largest probabilities (out of a possible 43) and the correspoding class ids.\n",
    "\n",
    "Take this numpy array as an example. The values in the array represent predictions. The array contains softmax probabilities for five candidate images with six possible classes. `tf.nn.top_k` is used to choose the three classes with the highest probability:\n",
    "\n",
    "```\n",
    "# (5, 6) array\n",
    "a = np.array([[ 0.24879643,  0.07032244,  0.12641572,  0.34763842,  0.07893497,\n",
    "         0.12789202],\n",
    "       [ 0.28086119,  0.27569815,  0.08594638,  0.0178669 ,  0.18063401,\n",
    "         0.15899337],\n",
    "       [ 0.26076848,  0.23664738,  0.08020603,  0.07001922,  0.1134371 ,\n",
    "         0.23892179],\n",
    "       [ 0.11943333,  0.29198961,  0.02605103,  0.26234032,  0.1351348 ,\n",
    "         0.16505091],\n",
    "       [ 0.09561176,  0.34396535,  0.0643941 ,  0.16240774,  0.24206137,\n",
    "         0.09155967]])\n",
    "```\n",
    "\n",
    "Running it through `sess.run(tf.nn.top_k(tf.constant(a), k=3))` produces:\n",
    "\n",
    "```\n",
    "TopKV2(values=array([[ 0.34763842,  0.24879643,  0.12789202],\n",
    "       [ 0.28086119,  0.27569815,  0.18063401],\n",
    "       [ 0.26076848,  0.23892179,  0.23664738],\n",
    "       [ 0.29198961,  0.26234032,  0.16505091],\n",
    "       [ 0.34396535,  0.24206137,  0.16240774]]), indices=array([[3, 0, 5],\n",
    "       [0, 1, 4],\n",
    "       [0, 5, 1],\n",
    "       [1, 3, 5],\n",
    "       [1, 4, 3]], dtype=int32))\n",
    "```\n",
    "\n",
    "Looking just at the first row we get `[ 0.34763842,  0.24879643,  0.12789202]`, you can confirm these are the 3 largest probabilities in `a`. You'll also notice `[3, 0, 5]` are the corresponding indices."
   ]
  },
  {
   "cell_type": "code",
   "execution_count": null,
   "metadata": {},
   "outputs": [],
   "source": [
    "### Print out the top five softmax probabilities for the predictions on the German traffic sign images found on the web. \n",
    "### Feel free to use as many code cells as needed."
   ]
  },
  {
   "cell_type": "code",
   "execution_count": null,
   "metadata": {},
   "outputs": [],
   "source": [
    "softmaxLogit = tf.nn.softmax(logits)\n",
    "softmaxTopFiveIn = tf.nn.top_k(softmaxLogit, k=5)\n",
    "with tf.Session() as sess:\n",
    "    saver.restore(sess, \"lenet\")\n",
    "    softmaxLogits = sess.run (softmaxLogit, feed_dict={x: testImgs, y: testLabels, keepProb:1})\n",
    "    softmaxTopFive = sess.run (softmaxTopFiveIn, feed_dict={x: testImgs, y: testLabels, keepProb:1})\n",
    "    print(softmaxTopFive)\n"
   ]
  },
  {
   "cell_type": "code",
   "execution_count": null,
   "metadata": {},
   "outputs": [],
   "source": [
    "# it might be easier to see the softmax probabilities graphically\n",
    "fig, axs = plt.subplots(3,4, figsize=(16, 9))\n",
    "axs = axs.ravel()\n",
    "    \n",
    "for i in range(len(testImgs)*2):\n",
    "    if i%2 == 0:\n",
    "        axs[i].axis('off')\n",
    "        axs[i].imshow(colorImgs[i//2])\n",
    "    else:\n",
    "        axs[i].bar(np.arange(n_classes), softmaxLogits[(i-1)//2]) \n",
    "        axs[i].set_ylabel('Softmax probability')    \n",
    "        \n",
    "plt.savefig('outputImgs/3_softmax.jpg')"
   ]
  },
  {
   "cell_type": "markdown",
   "metadata": {},
   "source": [
    "### Project Writeup\n",
    "\n",
    "Once you have completed the code implementation, document your results in a project writeup using this [template](https://github.com/udacity/CarND-Traffic-Sign-Classifier-Project/blob/master/writeup_template.md) as a guide. The writeup can be in a markdown or pdf file. "
   ]
  },
  {
   "cell_type": "markdown",
   "metadata": {},
   "source": [
    "> **Note**: Once you have completed all of the code implementations and successfully answered each question above, you may finalize your work by exporting the iPython Notebook as an HTML document. You can do this by using the menu above and navigating to  \\n\",\n",
    "    \"**File -> Download as -> HTML (.html)**. Include the finished document along with this notebook as your submission."
   ]
  },
  {
   "cell_type": "markdown",
   "metadata": {},
   "source": [
    "---\n",
    "\n",
    "## Step 4 (Optional): Visualize the Neural Network's State with Test Images\n",
    "\n",
    " This Section is not required to complete but acts as an additional excersise for understaning the output of a neural network's weights. While neural networks can be a great learning device they are often referred to as a black box. We can understand what the weights of a neural network look like better by plotting their feature maps. After successfully training your neural network you can see what it's feature maps look like by plotting the output of the network's weight layers in response to a test stimuli image. From these plotted feature maps, it's possible to see what characteristics of an image the network finds interesting. For a sign, maybe the inner network feature maps react with high activation to the sign's boundary outline or to the contrast in the sign's painted symbol.\n",
    "\n",
    " Provided for you below is the function code that allows you to get the visualization output of any tensorflow weight layer you want. The inputs to the function should be a stimuli image, one used during training or a new one you provided, and then the tensorflow variable name that represents the layer's state during the training process, for instance if you wanted to see what the [LeNet lab's](https://classroom.udacity.com/nanodegrees/nd013/parts/fbf77062-5703-404e-b60c-95b78b2f3f9e/modules/6df7ae49-c61c-4bb2-a23e-6527e69209ec/lessons/601ae704-1035-4287-8b11-e2c2716217ad/concepts/d4aca031-508f-4e0b-b493-e7b706120f81) feature maps looked like for it's second convolutional layer you could enter conv2 as the tf_activation variable.\n",
    "\n",
    "For an example of what feature map outputs look like, check out NVIDIA's results in their paper [End-to-End Deep Learning for Self-Driving Cars](https://devblogs.nvidia.com/parallelforall/deep-learning-self-driving-cars/) in the section Visualization of internal CNN State. NVIDIA was able to show that their network's inner weights had high activations to road boundary lines by comparing feature maps from an image with a clear path to one without. Try experimenting with a similar test to show that your trained network's weights are looking for interesting features, whether it's looking at differences in feature maps from images with or without a sign, or even what feature maps look like in a trained network vs a completely untrained one on the same sign image.\n",
    "\n",
    "<figure>\n",
    " <img src=\"visualize_cnn.png\" width=\"380\" alt=\"Combined Image\" />\n",
    " <figcaption>\n",
    " <p></p> \n",
    " <p style=\"text-align: center;\"> Your output should look something like this (above)</p> \n",
    " </figcaption>\n",
    "</figure>\n",
    " <p></p> \n"
   ]
  },
  {
   "cell_type": "code",
   "execution_count": null,
   "metadata": {},
   "outputs": [],
   "source": [
    "### Visualize your network's feature maps here.\n",
    "### Feel free to use as many code cells as needed.\n",
    "\n",
    "# image_input: the test image being fed into the network to produce the feature maps\n",
    "# tf_activation: should be a tf variable name used during your training procedure that represents the calculated state of a specific weight layer\n",
    "# activation_min/max: can be used to view the activation contrast in more detail, by default matplot sets min and max to the actual min and max values of the output\n",
    "# plt_num: used to plot out multiple different weight feature map sets on the same block, just extend the plt number for each new feature map entry\n",
    "\n",
    "def outputFeatureMap(image_input, tf_activation, activation_min=-1, activation_max=-1 ,plt_num=1):\n",
    "    # Here make sure to preprocess your image_input in a way your network expects\n",
    "    # with size, normalization, ect if needed\n",
    "    # image_input =\n",
    "    # Note: x should be the same name as your network's tensorflow data placeholder variable\n",
    "    # If you get an error tf_activation is not defined it may be having trouble accessing the variable from inside a function\n",
    "    activation = tf_activation.eval(session=sess,feed_dict={x : image_input})\n",
    "    featuremaps = activation.shape[3]\n",
    "    plt.figure(plt_num, figsize=(15,15))\n",
    "    for featuremap in range(featuremaps):\n",
    "        plt.subplot(6,8, featuremap+1) # sets the number of feature maps to show on each row and column\n",
    "        plt.title('FeatureMap ' + str(featuremap)) # displays the feature map number\n",
    "        if activation_min != -1 & activation_max != -1:\n",
    "            plt.imshow(activation[0,:,:, featuremap], interpolation=\"nearest\", vmin =activation_min, vmax=activation_max, cmap=\"gray\")\n",
    "        elif activation_max != -1:\n",
    "            plt.imshow(activation[0,:,:, featuremap], interpolation=\"nearest\", vmax=activation_max, cmap=\"gray\")\n",
    "        elif activation_min !=-1:\n",
    "            plt.imshow(activation[0,:,:, featuremap], interpolation=\"nearest\", vmin=activation_min, cmap=\"gray\")\n",
    "        else:\n",
    "            plt.imshow(activation[0,:,:, featuremap], interpolation=\"nearest\", cmap=\"gray\")"
   ]
  }
 ],
 "metadata": {
  "anaconda-cloud": {},
  "kernelspec": {
   "display_name": "Python 3",
   "language": "python",
   "name": "python3"
  },
  "language_info": {
   "codemirror_mode": {
    "name": "ipython",
    "version": 3
   },
   "file_extension": ".py",
   "mimetype": "text/x-python",
   "name": "python",
   "nbconvert_exporter": "python",
   "pygments_lexer": "ipython3",
   "version": "3.6.3"
  }
 },
 "nbformat": 4,
 "nbformat_minor": 1
}
